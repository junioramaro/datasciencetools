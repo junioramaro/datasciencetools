{
 "cells": [
  {
   "cell_type": "markdown",
   "id": "cb9af574",
   "metadata": {},
   "source": [
    "# Data Science Tools and Ecosystem"
   ]
  },
  {
   "cell_type": "markdown",
   "id": "86fb13a6",
   "metadata": {},
   "source": [
    "## Introduction\n",
    "\n",
    "In this present notebook, some of the most important Data Science tools and ecosystems will be summarized."
   ]
  },
  {
   "cell_type": "markdown",
   "id": "697114e4",
   "metadata": {},
   "source": [
    "### Data Science Languages\n",
    "\n",
    "Some of the most well-known and widely used programming languages in the field of Data Science are as follows:\n",
    "\n",
    "1. Python\n",
    "2. SQL\n",
    "3. R\n",
    "4. C++\n",
    "5. Julia\n",
    "6. Java\n",
    "7. Scala"
   ]
  },
  {
   "cell_type": "markdown",
   "id": "f95fb6f3",
   "metadata": {},
   "source": [
    "### Data Science Libraries\n",
    "\n",
    "Here, are presented a few Data Science libraries that are commonly used while working with the programming languages mentioned above:\n",
    "\n",
    "1. Pandas\n",
    "2. NumPy\n",
    "3. Matplotlib\n",
    "4. Scikit-learn\n",
    "5. ggplot2\n",
    "6. Seaborn\n",
    "7. Keras"
   ]
  },
  {
   "cell_type": "markdown",
   "id": "af85b315",
   "metadata": {},
   "source": [
    "### Data Science Tools\n",
    "\n",
    "| Data Science Tools |\n",
    "|:------------------:|\n",
    "|       Jupyter      |\n",
    "|   Apache Zeppelin  |\n",
    "|       RStudio      |"
   ]
  },
  {
   "cell_type": "markdown",
   "id": "9240b119",
   "metadata": {},
   "source": [
    "### Below are a few examples of simple arithmetic expressions in Python."
   ]
  },
  {
   "cell_type": "code",
   "execution_count": 2,
   "id": "8c0915ff",
   "metadata": {},
   "outputs": [
    {
     "data": {
      "text/plain": [
       "17"
      ]
     },
     "execution_count": 2,
     "metadata": {},
     "output_type": "execute_result"
    }
   ],
   "source": [
    "# This is a simple arithmetic expression to multiply then add integers.\n",
    "(3*4)+5"
   ]
  },
  {
   "cell_type": "code",
   "execution_count": 5,
   "id": "2556818f",
   "metadata": {},
   "outputs": [
    {
     "name": "stdout",
     "output_type": "stream",
     "text": [
      "3.3333333333333335\n"
     ]
    }
   ],
   "source": [
    "# This will convert 200 minutes to hours by dividing by 60.\n",
    "hours = 200/60\n",
    "print(hours)"
   ]
  },
  {
   "cell_type": "markdown",
   "id": "ad27830a",
   "metadata": {},
   "source": [
    "### Objectives\n",
    "\n",
    "Here is a list with a few takeaways from doing this notebook.\n",
    "\n",
    "- Create a Jupyter Notebook with markdown and code cells\n",
    "- List examples of languages, libraries and tools used in Data Science\n",
    "- Share your Jupyter Notebook publicly on GitHub\n",
    "- Demonstrate proficiency in Data Science toolkit knowledge"
   ]
  },
  {
   "cell_type": "markdown",
   "id": "a137ef51",
   "metadata": {},
   "source": [
    "## Author\n",
    "Nelson Assunção"
   ]
  }
 ],
 "metadata": {
  "kernelspec": {
   "display_name": "Python 3 (ipykernel)",
   "language": "python",
   "name": "python3"
  },
  "language_info": {
   "codemirror_mode": {
    "name": "ipython",
    "version": 3
   },
   "file_extension": ".py",
   "mimetype": "text/x-python",
   "name": "python",
   "nbconvert_exporter": "python",
   "pygments_lexer": "ipython3",
   "version": "3.10.9"
  }
 },
 "nbformat": 4,
 "nbformat_minor": 5
}
